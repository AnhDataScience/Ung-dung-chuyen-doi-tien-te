{
 "cells": [
  {
   "cell_type": "code",
   "execution_count": 2,
   "id": "e46a9764",
   "metadata": {},
   "outputs": [
    {
     "name": "stdout",
     "output_type": "stream",
     "text": [
      "Nhap so tien USD can doi: 202.5\n",
      "So tien VND tuong ung la:  4779000.0\n"
     ]
    }
   ],
   "source": [
    "sotienUSD = float(input('Nhap so tien USD can doi: '))\n",
    "tygia = 23600\n",
    "sotienVND = sotienUSD*tygia\n",
    "\n",
    "print(\"So tien VND tuong ung la: \", sotienVND)"
   ]
  }
 ],
 "metadata": {
  "kernelspec": {
   "display_name": "Python 3 (ipykernel)",
   "language": "python",
   "name": "python3"
  },
  "language_info": {
   "codemirror_mode": {
    "name": "ipython",
    "version": 3
   },
   "file_extension": ".py",
   "mimetype": "text/x-python",
   "name": "python",
   "nbconvert_exporter": "python",
   "pygments_lexer": "ipython3",
   "version": "3.9.13"
  }
 },
 "nbformat": 4,
 "nbformat_minor": 5
}
